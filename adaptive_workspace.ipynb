{
 "cells": [
  {
   "cell_type": "markdown",
   "id": "ce61c567",
   "metadata": {},
   "source": [
    "INSTALLATION OF PACKAGES "
   ]
  },
  {
   "cell_type": "code",
   "execution_count": 1,
   "id": "7b9ab434",
   "metadata": {
    "scrolled": true
   },
   "outputs": [
    {
     "name": "stdout",
     "output_type": "stream",
     "text": [
      "Requirement already satisfied: screen_brightness_control in c:\\users\\advik\\anaconda3\\lib\\site-packages (0.22.1)\n",
      "Requirement already satisfied: pywin32 in c:\\users\\advik\\anaconda3\\lib\\site-packages (from screen_brightness_control) (305.1)\n",
      "Requirement already satisfied: pypiwin32 in c:\\users\\advik\\anaconda3\\lib\\site-packages (from screen_brightness_control) (223)\n",
      "Requirement already satisfied: wmi in c:\\users\\advik\\anaconda3\\lib\\site-packages (from screen_brightness_control) (1.5.1)\n",
      "Requirement already satisfied: imbalanced-learn in c:\\users\\advik\\anaconda3\\lib\\site-packages (0.12.0)\n",
      "Requirement already satisfied: numpy>=1.17.3 in c:\\users\\advik\\anaconda3\\lib\\site-packages (from imbalanced-learn) (1.23.5)\n",
      "Requirement already satisfied: threadpoolctl>=2.0.0 in c:\\users\\advik\\anaconda3\\lib\\site-packages (from imbalanced-learn) (2.2.0)\n",
      "Requirement already satisfied: joblib>=1.1.1 in c:\\users\\advik\\anaconda3\\lib\\site-packages (from imbalanced-learn) (1.1.1)\n",
      "Requirement already satisfied: scikit-learn>=1.0.2 in c:\\users\\advik\\anaconda3\\lib\\site-packages (from imbalanced-learn) (1.2.1)\n",
      "Requirement already satisfied: scipy>=1.5.0 in c:\\users\\advik\\anaconda3\\lib\\site-packages (from imbalanced-learn) (1.10.0)\n"
     ]
    }
   ],
   "source": [
    "!pip install screen_brightness_control\n",
    "#python tool posted on pypi for controlling brightness of primary display\n",
    "!pip install -U imbalanced-learn\n",
    "#an open source library relying on scikit-learn to deal with imbalanced classes"
   ]
  },
  {
   "cell_type": "markdown",
   "id": "d4ba1084",
   "metadata": {},
   "source": [
    "IMPORTING MODULES ALREADY PRESENT WITHIN PYTHON "
   ]
  },
  {
   "cell_type": "code",
   "execution_count": 2,
   "id": "abb94cfa",
   "metadata": {},
   "outputs": [],
   "source": [
    "import time\n",
    "import datetime \n",
    "import random\n",
    "\n",
    "import ctypes\n",
    "import pandas as pd\n",
    "import numpy as np\n",
    "import screen_brightness_control as sbc\n",
    "\n",
    "#to access the Windows registry to modify low level functions of the API\n",
    "import winreg\n",
    "import subprocess"
   ]
  },
  {
   "cell_type": "markdown",
   "id": "d4c9b149",
   "metadata": {},
   "source": [
    "DISPLAY OF CREATED DATAFRAME with 288382 datapoints having raw gaze coordinates: horizontal(x) and vertical (y)"
   ]
  },
  {
   "cell_type": "code",
   "execution_count": 3,
   "id": "cba94007",
   "metadata": {},
   "outputs": [
    {
     "data": {
      "text/html": [
       "<div>\n",
       "<style scoped>\n",
       "    .dataframe tbody tr th:only-of-type {\n",
       "        vertical-align: middle;\n",
       "    }\n",
       "\n",
       "    .dataframe tbody tr th {\n",
       "        vertical-align: top;\n",
       "    }\n",
       "\n",
       "    .dataframe thead th {\n",
       "        text-align: right;\n",
       "    }\n",
       "</style>\n",
       "<table border=\"1\" class=\"dataframe\">\n",
       "  <thead>\n",
       "    <tr style=\"text-align: right;\">\n",
       "      <th></th>\n",
       "      <th>participant</th>\n",
       "      <th>activity</th>\n",
       "      <th>x</th>\n",
       "      <th>y</th>\n",
       "      <th>set</th>\n",
       "      <th>timestamp</th>\n",
       "    </tr>\n",
       "  </thead>\n",
       "  <tbody>\n",
       "    <tr>\n",
       "      <th>0</th>\n",
       "      <td>p01</td>\n",
       "      <td>BROWSE</td>\n",
       "      <td>1199</td>\n",
       "      <td>665</td>\n",
       "      <td>A</td>\n",
       "      <td>199472.0</td>\n",
       "    </tr>\n",
       "    <tr>\n",
       "      <th>1</th>\n",
       "      <td>p01</td>\n",
       "      <td>BROWSE</td>\n",
       "      <td>1199</td>\n",
       "      <td>561</td>\n",
       "      <td>A</td>\n",
       "      <td>170889.0</td>\n",
       "    </tr>\n",
       "    <tr>\n",
       "      <th>2</th>\n",
       "      <td>p01</td>\n",
       "      <td>BROWSE</td>\n",
       "      <td>1198</td>\n",
       "      <td>553</td>\n",
       "      <td>A</td>\n",
       "      <td>207386.0</td>\n",
       "    </tr>\n",
       "    <tr>\n",
       "      <th>3</th>\n",
       "      <td>p01</td>\n",
       "      <td>BROWSE</td>\n",
       "      <td>1197</td>\n",
       "      <td>604</td>\n",
       "      <td>A</td>\n",
       "      <td>188832.0</td>\n",
       "    </tr>\n",
       "    <tr>\n",
       "      <th>4</th>\n",
       "      <td>p01</td>\n",
       "      <td>BROWSE</td>\n",
       "      <td>1197</td>\n",
       "      <td>554</td>\n",
       "      <td>A</td>\n",
       "      <td>152954.0</td>\n",
       "    </tr>\n",
       "    <tr>\n",
       "      <th>...</th>\n",
       "      <td>...</td>\n",
       "      <td>...</td>\n",
       "      <td>...</td>\n",
       "      <td>...</td>\n",
       "      <td>...</td>\n",
       "      <td>...</td>\n",
       "    </tr>\n",
       "    <tr>\n",
       "      <th>288377</th>\n",
       "      <td>p10</td>\n",
       "      <td>BROWSE</td>\n",
       "      <td>576</td>\n",
       "      <td>562</td>\n",
       "      <td>A</td>\n",
       "      <td>208031.0</td>\n",
       "    </tr>\n",
       "    <tr>\n",
       "      <th>288378</th>\n",
       "      <td>p10</td>\n",
       "      <td>BROWSE</td>\n",
       "      <td>579</td>\n",
       "      <td>562</td>\n",
       "      <td>A</td>\n",
       "      <td>208068.0</td>\n",
       "    </tr>\n",
       "    <tr>\n",
       "      <th>288379</th>\n",
       "      <td>p10</td>\n",
       "      <td>BROWSE</td>\n",
       "      <td>659</td>\n",
       "      <td>562</td>\n",
       "      <td>A</td>\n",
       "      <td>202015.0</td>\n",
       "    </tr>\n",
       "    <tr>\n",
       "      <th>288380</th>\n",
       "      <td>p10</td>\n",
       "      <td>BROWSE</td>\n",
       "      <td>663</td>\n",
       "      <td>562</td>\n",
       "      <td>A</td>\n",
       "      <td>199177.0</td>\n",
       "    </tr>\n",
       "    <tr>\n",
       "      <th>288381</th>\n",
       "      <td>p10</td>\n",
       "      <td>BROWSE</td>\n",
       "      <td>675</td>\n",
       "      <td>562</td>\n",
       "      <td>A</td>\n",
       "      <td>207838.0</td>\n",
       "    </tr>\n",
       "  </tbody>\n",
       "</table>\n",
       "<p>288382 rows × 6 columns</p>\n",
       "</div>"
      ],
      "text/plain": [
       "       participant activity     x    y set  timestamp\n",
       "0              p01   BROWSE  1199  665   A   199472.0\n",
       "1              p01   BROWSE  1199  561   A   170889.0\n",
       "2              p01   BROWSE  1198  553   A   207386.0\n",
       "3              p01   BROWSE  1197  604   A   188832.0\n",
       "4              p01   BROWSE  1197  554   A   152954.0\n",
       "...            ...      ...   ...  ...  ..        ...\n",
       "288377         p10   BROWSE   576  562   A   208031.0\n",
       "288378         p10   BROWSE   579  562   A   208068.0\n",
       "288379         p10   BROWSE   659  562   A   202015.0\n",
       "288380         p10   BROWSE   663  562   A   199177.0\n",
       "288381         p10   BROWSE   675  562   A   207838.0\n",
       "\n",
       "[288382 rows x 6 columns]"
      ]
     },
     "execution_count": 3,
     "metadata": {},
     "output_type": "execute_result"
    }
   ],
   "source": [
    "df=pd.read_csv('dataset1_train_test.csv') #upload whichever dataset you want to out of the 6 and change the filename here\n",
    "df"
   ]
  },
  {
   "cell_type": "code",
   "execution_count": 4,
   "id": "19a97674",
   "metadata": {},
   "outputs": [
    {
     "data": {
      "text/html": [
       "<div>\n",
       "<style scoped>\n",
       "    .dataframe tbody tr th:only-of-type {\n",
       "        vertical-align: middle;\n",
       "    }\n",
       "\n",
       "    .dataframe tbody tr th {\n",
       "        vertical-align: top;\n",
       "    }\n",
       "\n",
       "    .dataframe thead th {\n",
       "        text-align: right;\n",
       "    }\n",
       "</style>\n",
       "<table border=\"1\" class=\"dataframe\">\n",
       "  <thead>\n",
       "    <tr style=\"text-align: right;\">\n",
       "      <th></th>\n",
       "      <th>participant</th>\n",
       "      <th>activity</th>\n",
       "      <th>x</th>\n",
       "      <th>y</th>\n",
       "    </tr>\n",
       "  </thead>\n",
       "  <tbody>\n",
       "    <tr>\n",
       "      <th>279304</th>\n",
       "      <td>p10</td>\n",
       "      <td>BROWSE</td>\n",
       "      <td>682</td>\n",
       "      <td>797</td>\n",
       "    </tr>\n",
       "    <tr>\n",
       "      <th>279305</th>\n",
       "      <td>p10</td>\n",
       "      <td>BROWSE</td>\n",
       "      <td>701</td>\n",
       "      <td>797</td>\n",
       "    </tr>\n",
       "    <tr>\n",
       "      <th>279306</th>\n",
       "      <td>p10</td>\n",
       "      <td>BROWSE</td>\n",
       "      <td>572</td>\n",
       "      <td>793</td>\n",
       "    </tr>\n",
       "    <tr>\n",
       "      <th>279307</th>\n",
       "      <td>p10</td>\n",
       "      <td>BROWSE</td>\n",
       "      <td>814</td>\n",
       "      <td>793</td>\n",
       "    </tr>\n",
       "    <tr>\n",
       "      <th>279308</th>\n",
       "      <td>p10</td>\n",
       "      <td>BROWSE</td>\n",
       "      <td>987</td>\n",
       "      <td>793</td>\n",
       "    </tr>\n",
       "    <tr>\n",
       "      <th>...</th>\n",
       "      <td>...</td>\n",
       "      <td>...</td>\n",
       "      <td>...</td>\n",
       "      <td>...</td>\n",
       "    </tr>\n",
       "    <tr>\n",
       "      <th>288377</th>\n",
       "      <td>p10</td>\n",
       "      <td>BROWSE</td>\n",
       "      <td>576</td>\n",
       "      <td>562</td>\n",
       "    </tr>\n",
       "    <tr>\n",
       "      <th>288378</th>\n",
       "      <td>p10</td>\n",
       "      <td>BROWSE</td>\n",
       "      <td>579</td>\n",
       "      <td>562</td>\n",
       "    </tr>\n",
       "    <tr>\n",
       "      <th>288379</th>\n",
       "      <td>p10</td>\n",
       "      <td>BROWSE</td>\n",
       "      <td>659</td>\n",
       "      <td>562</td>\n",
       "    </tr>\n",
       "    <tr>\n",
       "      <th>288380</th>\n",
       "      <td>p10</td>\n",
       "      <td>BROWSE</td>\n",
       "      <td>663</td>\n",
       "      <td>562</td>\n",
       "    </tr>\n",
       "    <tr>\n",
       "      <th>288381</th>\n",
       "      <td>p10</td>\n",
       "      <td>BROWSE</td>\n",
       "      <td>675</td>\n",
       "      <td>562</td>\n",
       "    </tr>\n",
       "  </tbody>\n",
       "</table>\n",
       "<p>9078 rows × 4 columns</p>\n",
       "</div>"
      ],
      "text/plain": [
       "       participant activity    x    y\n",
       "279304         p10   BROWSE  682  797\n",
       "279305         p10   BROWSE  701  797\n",
       "279306         p10   BROWSE  572  793\n",
       "279307         p10   BROWSE  814  793\n",
       "279308         p10   BROWSE  987  793\n",
       "...            ...      ...  ...  ...\n",
       "288377         p10   BROWSE  576  562\n",
       "288378         p10   BROWSE  579  562\n",
       "288379         p10   BROWSE  659  562\n",
       "288380         p10   BROWSE  663  562\n",
       "288381         p10   BROWSE  675  562\n",
       "\n",
       "[9078 rows x 4 columns]"
      ]
     },
     "execution_count": 4,
     "metadata": {},
     "output_type": "execute_result"
    }
   ],
   "source": [
    "#DROPPING OFF UNREQUIRED FEATURE COLUMNS\n",
    "df=df.drop('set',axis=1)\n",
    "df=df.drop('timestamp',axis=1)\n",
    "\n",
    "mask=df['participant']=='p10' #cross verify the participant label of the test split by the table provided and change to 'p09' or 'p10' accordingly\n",
    "Y=df[mask]\n",
    "Y #display of test split for verification"
   ]
  },
  {
   "cell_type": "markdown",
   "id": "3b74e362",
   "metadata": {},
   "source": [
    "CONVERSION OF CATEGORICAL DATA INTO NUMERIC DATA"
   ]
  },
  {
   "cell_type": "markdown",
   "id": "afe2fa44",
   "metadata": {},
   "source": [
    "models work more efficiently with numeric values consequently, values of feature column 'participant' are encoded to numeric values"
   ]
  },
  {
   "cell_type": "code",
   "execution_count": 5,
   "id": "18a0c371",
   "metadata": {},
   "outputs": [],
   "source": [
    "df_encoded = pd.get_dummies(df, columns=['participant'])"
   ]
  },
  {
   "cell_type": "markdown",
   "id": "d541ac7a",
   "metadata": {},
   "source": [
    "CREATION OF FEATURE DATASET AND TARGET DATASET FOR TRAINING OF MODEL"
   ]
  },
  {
   "cell_type": "code",
   "execution_count": 6,
   "id": "49523d78",
   "metadata": {},
   "outputs": [
    {
     "data": {
      "text/html": [
       "<div>\n",
       "<style scoped>\n",
       "    .dataframe tbody tr th:only-of-type {\n",
       "        vertical-align: middle;\n",
       "    }\n",
       "\n",
       "    .dataframe tbody tr th {\n",
       "        vertical-align: top;\n",
       "    }\n",
       "\n",
       "    .dataframe thead th {\n",
       "        text-align: right;\n",
       "    }\n",
       "</style>\n",
       "<table border=\"1\" class=\"dataframe\">\n",
       "  <thead>\n",
       "    <tr style=\"text-align: right;\">\n",
       "      <th></th>\n",
       "      <th>x</th>\n",
       "      <th>y</th>\n",
       "      <th>participant_p01</th>\n",
       "      <th>participant_p02</th>\n",
       "      <th>participant_p03</th>\n",
       "      <th>participant_p04</th>\n",
       "      <th>participant_p05</th>\n",
       "      <th>participant_p06</th>\n",
       "      <th>participant_p10</th>\n",
       "    </tr>\n",
       "  </thead>\n",
       "  <tbody>\n",
       "    <tr>\n",
       "      <th>0</th>\n",
       "      <td>1199</td>\n",
       "      <td>665</td>\n",
       "      <td>1</td>\n",
       "      <td>0</td>\n",
       "      <td>0</td>\n",
       "      <td>0</td>\n",
       "      <td>0</td>\n",
       "      <td>0</td>\n",
       "      <td>0</td>\n",
       "    </tr>\n",
       "    <tr>\n",
       "      <th>1</th>\n",
       "      <td>1199</td>\n",
       "      <td>561</td>\n",
       "      <td>1</td>\n",
       "      <td>0</td>\n",
       "      <td>0</td>\n",
       "      <td>0</td>\n",
       "      <td>0</td>\n",
       "      <td>0</td>\n",
       "      <td>0</td>\n",
       "    </tr>\n",
       "    <tr>\n",
       "      <th>2</th>\n",
       "      <td>1198</td>\n",
       "      <td>553</td>\n",
       "      <td>1</td>\n",
       "      <td>0</td>\n",
       "      <td>0</td>\n",
       "      <td>0</td>\n",
       "      <td>0</td>\n",
       "      <td>0</td>\n",
       "      <td>0</td>\n",
       "    </tr>\n",
       "    <tr>\n",
       "      <th>3</th>\n",
       "      <td>1197</td>\n",
       "      <td>604</td>\n",
       "      <td>1</td>\n",
       "      <td>0</td>\n",
       "      <td>0</td>\n",
       "      <td>0</td>\n",
       "      <td>0</td>\n",
       "      <td>0</td>\n",
       "      <td>0</td>\n",
       "    </tr>\n",
       "    <tr>\n",
       "      <th>4</th>\n",
       "      <td>1197</td>\n",
       "      <td>554</td>\n",
       "      <td>1</td>\n",
       "      <td>0</td>\n",
       "      <td>0</td>\n",
       "      <td>0</td>\n",
       "      <td>0</td>\n",
       "      <td>0</td>\n",
       "      <td>0</td>\n",
       "    </tr>\n",
       "    <tr>\n",
       "      <th>...</th>\n",
       "      <td>...</td>\n",
       "      <td>...</td>\n",
       "      <td>...</td>\n",
       "      <td>...</td>\n",
       "      <td>...</td>\n",
       "      <td>...</td>\n",
       "      <td>...</td>\n",
       "      <td>...</td>\n",
       "      <td>...</td>\n",
       "    </tr>\n",
       "    <tr>\n",
       "      <th>288377</th>\n",
       "      <td>576</td>\n",
       "      <td>562</td>\n",
       "      <td>0</td>\n",
       "      <td>0</td>\n",
       "      <td>0</td>\n",
       "      <td>0</td>\n",
       "      <td>0</td>\n",
       "      <td>0</td>\n",
       "      <td>1</td>\n",
       "    </tr>\n",
       "    <tr>\n",
       "      <th>288378</th>\n",
       "      <td>579</td>\n",
       "      <td>562</td>\n",
       "      <td>0</td>\n",
       "      <td>0</td>\n",
       "      <td>0</td>\n",
       "      <td>0</td>\n",
       "      <td>0</td>\n",
       "      <td>0</td>\n",
       "      <td>1</td>\n",
       "    </tr>\n",
       "    <tr>\n",
       "      <th>288379</th>\n",
       "      <td>659</td>\n",
       "      <td>562</td>\n",
       "      <td>0</td>\n",
       "      <td>0</td>\n",
       "      <td>0</td>\n",
       "      <td>0</td>\n",
       "      <td>0</td>\n",
       "      <td>0</td>\n",
       "      <td>1</td>\n",
       "    </tr>\n",
       "    <tr>\n",
       "      <th>288380</th>\n",
       "      <td>663</td>\n",
       "      <td>562</td>\n",
       "      <td>0</td>\n",
       "      <td>0</td>\n",
       "      <td>0</td>\n",
       "      <td>0</td>\n",
       "      <td>0</td>\n",
       "      <td>0</td>\n",
       "      <td>1</td>\n",
       "    </tr>\n",
       "    <tr>\n",
       "      <th>288381</th>\n",
       "      <td>675</td>\n",
       "      <td>562</td>\n",
       "      <td>0</td>\n",
       "      <td>0</td>\n",
       "      <td>0</td>\n",
       "      <td>0</td>\n",
       "      <td>0</td>\n",
       "      <td>0</td>\n",
       "      <td>1</td>\n",
       "    </tr>\n",
       "  </tbody>\n",
       "</table>\n",
       "<p>288382 rows × 9 columns</p>\n",
       "</div>"
      ],
      "text/plain": [
       "           x    y  participant_p01  participant_p02  participant_p03  \\\n",
       "0       1199  665                1                0                0   \n",
       "1       1199  561                1                0                0   \n",
       "2       1198  553                1                0                0   \n",
       "3       1197  604                1                0                0   \n",
       "4       1197  554                1                0                0   \n",
       "...      ...  ...              ...              ...              ...   \n",
       "288377   576  562                0                0                0   \n",
       "288378   579  562                0                0                0   \n",
       "288379   659  562                0                0                0   \n",
       "288380   663  562                0                0                0   \n",
       "288381   675  562                0                0                0   \n",
       "\n",
       "        participant_p04  participant_p05  participant_p06  participant_p10  \n",
       "0                     0                0                0                0  \n",
       "1                     0                0                0                0  \n",
       "2                     0                0                0                0  \n",
       "3                     0                0                0                0  \n",
       "4                     0                0                0                0  \n",
       "...                 ...              ...              ...              ...  \n",
       "288377                0                0                0                1  \n",
       "288378                0                0                0                1  \n",
       "288379                0                0                0                1  \n",
       "288380                0                0                0                1  \n",
       "288381                0                0                0                1  \n",
       "\n",
       "[288382 rows x 9 columns]"
      ]
     },
     "execution_count": 6,
     "metadata": {},
     "output_type": "execute_result"
    }
   ],
   "source": [
    "y=df_encoded.activity\n",
    "X=df_encoded.drop('activity',axis=1)\n",
    "X"
   ]
  },
  {
   "cell_type": "markdown",
   "id": "b97aa08e",
   "metadata": {},
   "source": [
    "IMPORTING LIBRARIES TO USE FOR MACHINE LEARNING IMPLEMENTATION"
   ]
  },
  {
   "cell_type": "code",
   "execution_count": 7,
   "id": "daff4151",
   "metadata": {},
   "outputs": [],
   "source": [
    "#allows implementation of said tasks\n",
    "from sklearn.model_selection import train_test_split\n",
    "from sklearn.ensemble import RandomForestClassifier\n",
    "\n",
    "#helps in processing and working with imbalanced classes\n",
    "from imblearn.over_sampling import SMOTE\n",
    "from imblearn.under_sampling import RandomUnderSampler\n",
    "from imblearn.pipeline import make_pipeline"
   ]
  },
  {
   "cell_type": "code",
   "execution_count": 8,
   "id": "ccae30db",
   "metadata": {},
   "outputs": [],
   "source": [
    "#splitting of datasets into training and testing dataset\n",
    "#choose test_size according to the table given previously by cross-referring the dataset you're using\n",
    "X_train,X_test,y_train,y_test=train_test_split(X,y, test_size=0.96852092,random_state=0)"
   ]
  },
  {
   "cell_type": "markdown",
   "id": "7aabd49c",
   "metadata": {},
   "source": [
    "DEALING WITH IMBALANCED CLASSES IN THE DATASET BY COMBINATION OF RESAMPLING TECHNIQUES"
   ]
  },
  {
   "cell_type": "code",
   "execution_count": 9,
   "id": "d507e722",
   "metadata": {},
   "outputs": [],
   "source": [
    "resampling_pipeline = make_pipeline(SMOTE(sampling_strategy='auto'), RandomUnderSampler(sampling_strategy='auto'))\n",
    "X_train_resampled, y_train_resampled = resampling_pipeline.fit_resample(X_train, y_train)"
   ]
  },
  {
   "cell_type": "markdown",
   "id": "f2b98b41",
   "metadata": {},
   "source": [
    "FITTING THE DATA TO CHOSEN RANDOM FOREST CLASSIFIER WITH BEST HYPERPARAMETERS FOUND BY GRID-SEARCH AFTER MID-EVAL"
   ]
  },
  {
   "cell_type": "code",
   "execution_count": 10,
   "id": "3b274768",
   "metadata": {},
   "outputs": [
    {
     "data": {
      "text/html": [
       "<style>#sk-container-id-1 {color: black;background-color: white;}#sk-container-id-1 pre{padding: 0;}#sk-container-id-1 div.sk-toggleable {background-color: white;}#sk-container-id-1 label.sk-toggleable__label {cursor: pointer;display: block;width: 100%;margin-bottom: 0;padding: 0.3em;box-sizing: border-box;text-align: center;}#sk-container-id-1 label.sk-toggleable__label-arrow:before {content: \"▸\";float: left;margin-right: 0.25em;color: #696969;}#sk-container-id-1 label.sk-toggleable__label-arrow:hover:before {color: black;}#sk-container-id-1 div.sk-estimator:hover label.sk-toggleable__label-arrow:before {color: black;}#sk-container-id-1 div.sk-toggleable__content {max-height: 0;max-width: 0;overflow: hidden;text-align: left;background-color: #f0f8ff;}#sk-container-id-1 div.sk-toggleable__content pre {margin: 0.2em;color: black;border-radius: 0.25em;background-color: #f0f8ff;}#sk-container-id-1 input.sk-toggleable__control:checked~div.sk-toggleable__content {max-height: 200px;max-width: 100%;overflow: auto;}#sk-container-id-1 input.sk-toggleable__control:checked~label.sk-toggleable__label-arrow:before {content: \"▾\";}#sk-container-id-1 div.sk-estimator input.sk-toggleable__control:checked~label.sk-toggleable__label {background-color: #d4ebff;}#sk-container-id-1 div.sk-label input.sk-toggleable__control:checked~label.sk-toggleable__label {background-color: #d4ebff;}#sk-container-id-1 input.sk-hidden--visually {border: 0;clip: rect(1px 1px 1px 1px);clip: rect(1px, 1px, 1px, 1px);height: 1px;margin: -1px;overflow: hidden;padding: 0;position: absolute;width: 1px;}#sk-container-id-1 div.sk-estimator {font-family: monospace;background-color: #f0f8ff;border: 1px dotted black;border-radius: 0.25em;box-sizing: border-box;margin-bottom: 0.5em;}#sk-container-id-1 div.sk-estimator:hover {background-color: #d4ebff;}#sk-container-id-1 div.sk-parallel-item::after {content: \"\";width: 100%;border-bottom: 1px solid gray;flex-grow: 1;}#sk-container-id-1 div.sk-label:hover label.sk-toggleable__label {background-color: #d4ebff;}#sk-container-id-1 div.sk-serial::before {content: \"\";position: absolute;border-left: 1px solid gray;box-sizing: border-box;top: 0;bottom: 0;left: 50%;z-index: 0;}#sk-container-id-1 div.sk-serial {display: flex;flex-direction: column;align-items: center;background-color: white;padding-right: 0.2em;padding-left: 0.2em;position: relative;}#sk-container-id-1 div.sk-item {position: relative;z-index: 1;}#sk-container-id-1 div.sk-parallel {display: flex;align-items: stretch;justify-content: center;background-color: white;position: relative;}#sk-container-id-1 div.sk-item::before, #sk-container-id-1 div.sk-parallel-item::before {content: \"\";position: absolute;border-left: 1px solid gray;box-sizing: border-box;top: 0;bottom: 0;left: 50%;z-index: -1;}#sk-container-id-1 div.sk-parallel-item {display: flex;flex-direction: column;z-index: 1;position: relative;background-color: white;}#sk-container-id-1 div.sk-parallel-item:first-child::after {align-self: flex-end;width: 50%;}#sk-container-id-1 div.sk-parallel-item:last-child::after {align-self: flex-start;width: 50%;}#sk-container-id-1 div.sk-parallel-item:only-child::after {width: 0;}#sk-container-id-1 div.sk-dashed-wrapped {border: 1px dashed gray;margin: 0 0.4em 0.5em 0.4em;box-sizing: border-box;padding-bottom: 0.4em;background-color: white;}#sk-container-id-1 div.sk-label label {font-family: monospace;font-weight: bold;display: inline-block;line-height: 1.2em;}#sk-container-id-1 div.sk-label-container {text-align: center;}#sk-container-id-1 div.sk-container {/* jupyter's `normalize.less` sets `[hidden] { display: none; }` but bootstrap.min.css set `[hidden] { display: none !important; }` so we also need the `!important` here to be able to override the default hidden behavior on the sphinx rendered scikit-learn.org. See: https://github.com/scikit-learn/scikit-learn/issues/21755 */display: inline-block !important;position: relative;}#sk-container-id-1 div.sk-text-repr-fallback {display: none;}</style><div id=\"sk-container-id-1\" class=\"sk-top-container\"><div class=\"sk-text-repr-fallback\"><pre>RandomForestClassifier(random_state=42)</pre><b>In a Jupyter environment, please rerun this cell to show the HTML representation or trust the notebook. <br />On GitHub, the HTML representation is unable to render, please try loading this page with nbviewer.org.</b></div><div class=\"sk-container\" hidden><div class=\"sk-item\"><div class=\"sk-estimator sk-toggleable\"><input class=\"sk-toggleable__control sk-hidden--visually\" id=\"sk-estimator-id-1\" type=\"checkbox\" checked><label for=\"sk-estimator-id-1\" class=\"sk-toggleable__label sk-toggleable__label-arrow\">RandomForestClassifier</label><div class=\"sk-toggleable__content\"><pre>RandomForestClassifier(random_state=42)</pre></div></div></div></div></div>"
      ],
      "text/plain": [
       "RandomForestClassifier(random_state=42)"
      ]
     },
     "execution_count": 10,
     "metadata": {},
     "output_type": "execute_result"
    }
   ],
   "source": [
    "rfc=RandomForestClassifier(n_estimators=100, max_features='sqrt', random_state=42)\n",
    "rfc.fit(X_train_resampled,y_train_resampled)"
   ]
  },
  {
   "cell_type": "code",
   "execution_count": 11,
   "id": "8538737e",
   "metadata": {},
   "outputs": [
    {
     "data": {
      "text/plain": [
       "array(['DEBUG', 'BROWSE', 'DEBUG', ..., 'WATCH', 'PLAY', 'DEBUG'],\n",
       "      dtype=object)"
      ]
     },
     "execution_count": 11,
     "metadata": {},
     "output_type": "execute_result"
    }
   ],
   "source": [
    "y_pred=rfc.predict(X_test)\n",
    "y_pred #display of array containing the votes of individual decision trees in the random forest"
   ]
  },
  {
   "cell_type": "markdown",
   "id": "69295b4c",
   "metadata": {},
   "source": [
    "### IMPLEMENTATION OF DYNAMIC ADAPTATION"
   ]
  },
  {
   "cell_type": "markdown",
   "id": "af8b0a23",
   "metadata": {},
   "source": [
    "Using SBC library that was imported earlier to access display settings of hardware: POWER HUNGRY BRIGHTNESS RESOURCE OPTIMISATION"
   ]
  },
  {
   "cell_type": "code",
   "execution_count": 12,
   "id": "f897a5ba",
   "metadata": {},
   "outputs": [],
   "source": [
    "brightness = sbc.get_brightness()\n",
    "primary = sbc.get_brightness(display=0)"
   ]
  },
  {
   "cell_type": "code",
   "execution_count": 17,
   "id": "bea9a6f7",
   "metadata": {},
   "outputs": [
    {
     "name": "stdout",
     "output_type": "stream",
     "text": [
      "Current Primary display brightness:  [100]\n"
     ]
    }
   ],
   "source": [
    "print(\"Current Primary display brightness: \",primary)"
   ]
  },
  {
   "cell_type": "code",
   "execution_count": 19,
   "id": "6e045aab",
   "metadata": {},
   "outputs": [],
   "source": [
    "#changes in brightness will also work according to the time of day, specific settings for daytime and nighttime \n",
    "now=datetime.datetime.now().time()\n",
    "\n",
    "morning_start=datetime.time(7,0)\n",
    "evening_start=datetime.time(19,0)"
   ]
  },
  {
   "cell_type": "markdown",
   "id": "81bed520",
   "metadata": {},
   "source": [
    "Using Windows Registry to access the API's supported battery plans: COMPUTATIONAL RESOURCES MANAGEMENT AND OPTIMISATION"
   ]
  },
  {
   "cell_type": "code",
   "execution_count": 13,
   "id": "e2bf6279",
   "metadata": {},
   "outputs": [],
   "source": [
    "def get_supported_battery_plans():\n",
    "    battery_plans = {}\n",
    "\n",
    "    with winreg.OpenKey(winreg.HKEY_LOCAL_MACHINE, r\"SYSTEM\\CurrentControlSet\\Control\\Power\\User\\PowerSchemes\") as key:\n",
    "        subkey_index = 0\n",
    "        while True:\n",
    "            try:\n",
    "                subkey_name = winreg.EnumKey(key, subkey_index)\n",
    "                subkey_path = rf\"SYSTEM\\CurrentControlSet\\Control\\Power\\User\\PowerSchemes\\{subkey_name}\"\n",
    "\n",
    "                with winreg.OpenKey(winreg.HKEY_LOCAL_MACHINE, subkey_path) as subkey:\n",
    "                    friendly_name, _ = winreg.QueryValueEx(subkey, \"FriendlyName\")\n",
    "                    \n",
    "                    #extracting just the battery plan name from the friendly name\n",
    "                plan_name = friendly_name.split(\",\")[-1].strip()\n",
    "                battery_plans[subkey_name] = plan_name\n",
    "                subkey_index += 1\n",
    "\n",
    "            except FileNotFoundError:\n",
    "                break\n",
    "            except Exception as e:\n",
    "                break\n",
    "\n",
    "    return battery_plans"
   ]
  },
  {
   "cell_type": "code",
   "execution_count": 14,
   "id": "a345cf1a",
   "metadata": {},
   "outputs": [],
   "source": [
    "def set_active_power_plan(plan_id):\n",
    "    subprocess.run([\"powercfg\", \"/setactive\", plan_id])\n",
    "    supported_battery_plans = get_supported_battery_plans()\n",
    "    friendly_name= supported_battery_plans[plan_id]\n",
    "    return friendly_name"
   ]
  },
  {
   "cell_type": "markdown",
   "id": "564a594e",
   "metadata": {},
   "source": [
    "Accessing Windows Graphical Device Interface library GDI32 to change colour hues for user-comfort"
   ]
  },
  {
   "cell_type": "code",
   "execution_count": 15,
   "id": "c794d648",
   "metadata": {},
   "outputs": [],
   "source": [
    "def set_gamma_ramp(gamma_ramp):\n",
    "    hdc = ctypes.windll.user32.GetDC(0)\n",
    "    gamma_ramp_flat = np.require(gamma_ramp, dtype=np.uint16, requirements='C')\n",
    "\n",
    "    ctypes.windll.gdi32.SetDeviceGammaRamp(hdc, gamma_ramp_flat.ctypes.data_as(ctypes.POINTER(ctypes.c_ushort)))\n",
    "    ctypes.windll.user32.ReleaseDC(0, hdc)"
   ]
  },
  {
   "cell_type": "code",
   "execution_count": 16,
   "id": "20a7e716",
   "metadata": {},
   "outputs": [],
   "source": [
    "def generate_hue_gamma_ramp(hue_factor):\n",
    "    gamma_ramp_size = 256\n",
    "    gamma_ramp = np.zeros((3, gamma_ramp_size), dtype=np.uint16)\n",
    "\n",
    "    for i in range(gamma_ramp_size):\n",
    "        intensity = i / (gamma_ramp_size - 1)\n",
    "        adjusted_intensity = intensity ** hue_factor\n",
    "        gamma_ramp[0, i] = gamma_ramp[1, i] = gamma_ramp[2, i] = int(adjusted_intensity * 65535)\n",
    "\n",
    "    return gamma_ramp"
   ]
  },
  {
   "cell_type": "code",
   "execution_count": 18,
   "id": "78cd8ceb",
   "metadata": {},
   "outputs": [],
   "source": [
    "def hue_factor(value,duration_seconds, steps):\n",
    "    constant_hue_factor = value\n",
    "    gamma_ramp = generate_hue_gamma_ramp(constant_hue_factor)\n",
    "\n",
    "    #for smooth transition in colour hues so as to not distress the user\n",
    "    for step in range(steps):\n",
    "        set_gamma_ramp(gamma_ramp)\n",
    "        time.sleep(duration_seconds / steps)"
   ]
  },
  {
   "cell_type": "markdown",
   "id": "53106723",
   "metadata": {},
   "source": [
    "#### CLASS CONTAINING METHODS THAT DEFINE ADAPTIVE FUNCTIONS BASED ON TASK BEING PERFORMED"
   ]
  },
  {
   "cell_type": "code",
   "execution_count": 20,
   "id": "f5219475",
   "metadata": {},
   "outputs": [],
   "source": [
    "class ActivityDecider:\n",
    "       \n",
    "    @classmethod\n",
    "    def activity_tap(cls):\n",
    "        print(f'Majority Vote: {majority_vote}')\n",
    "    \n",
    "    @classmethod    \n",
    "    def BROWSE(cls):\n",
    "        print(\"BROWSE MODE ENABLED\")\n",
    "        \n",
    "        value=set_active_power_plan('381b4222-f694-41f0-9685-ff5bb260df2e')\n",
    "        print(f\"Current Battery plan: {value}\")\n",
    "        \n",
    "        if morning_start<=now<evening_start:\n",
    "            sbc.set_brightness(70, display=0)\n",
    "        else:\n",
    "            sbc.set_brightness(50, display=0)\n",
    "            \n",
    "        hue_factor(1.0,10, 100)  \n",
    "        print(\"Shifted to a normal tone.\")\n",
    "        \n",
    "        \n",
    "    @classmethod\n",
    "    def READ(cls):\n",
    "        print(\"READ MODE ENABLED\")\n",
    "        \n",
    "        value=set_active_power_plan('961cc777-2547-4f9d-8174-7d86181b8a7a')\n",
    "        print(f\"Current Battery plan: {value}\")\n",
    "        \n",
    "        if morning_start<=now<evening_start:\n",
    "            sbc.set_brightness(55, display=0)\n",
    "        else:\n",
    "            sbc.set_brightness(35, display=0)\n",
    "            \n",
    "        hue_factor(0.8,10, 100) \n",
    "        print(\"Shifted to a warmer tone.\")\n",
    "        \n",
    "        \n",
    "    \n",
    "    @classmethod\n",
    "    def PLAY(cls):\n",
    "        print(\"PLAY MODE ENABLED\")\n",
    "        \n",
    "        value=set_active_power_plan('e9a42b02-d5df-448d-aa00-03f14749eb61')\n",
    "        print(f\"Current Battery plan: {value}\")\n",
    "        \n",
    "        if morning_start<=now<evening_start:\n",
    "            sbc.set_brightness(100, display=0)\n",
    "        else:\n",
    "            sbc.set_brightness(80, display=0)\n",
    "            \n",
    "        hue_factor(1.0,10, 100)\n",
    "        print(\"Shifted to a normal tone.\")\n",
    "        \n",
    "        \n",
    "    @classmethod\n",
    "    def DEBUG(cls):\n",
    "        print(\"DEBUG MODE ENABLED\")\n",
    "        \n",
    "        value=set_active_power_plan('a1841308-3541-4fab-bc81-f71556f20b4a')\n",
    "        print(f\"Current Battery plan: {value}\")\n",
    "        \n",
    "        if morning_start<=now<evening_start:\n",
    "            sbc.set_brightness(45, display=0)\n",
    "        else:\n",
    "            sbc.set_brightness(30, display=0)\n",
    "            \n",
    "        hue_factor(1.2,10, 100)\n",
    "        print(\"Shifted to a cooler tone.\")\n",
    "        \n",
    "        \n",
    "    @classmethod\n",
    "    def WRITE(cls):\n",
    "        print(\"WRITE MODE ENABLED\")\n",
    "        \n",
    "        value=set_active_power_plan('a1841308-3541-4fab-bc81-f71556f20b4a')\n",
    "        print(f\"Current Battery plan: {value}\")\n",
    "        \n",
    "        if morning_start<=now<evening_start:\n",
    "            sbc.set_brightness(50, display=0)\n",
    "        else:\n",
    "            sbc.set_brightness(40, display=0)\n",
    "            \n",
    "        hue_factor(0.8,10, 100)\n",
    "        print(\"Shifted to a warmer tone.\")\n",
    "        \n",
    "    \n",
    "    @classmethod\n",
    "    def WATCH(cls):\n",
    "        print(\"WATCH MODE ENABLED\")\n",
    "        \n",
    "        value=set_active_power_plan('381b4222-f694-41f0-9685-ff5bb260df2e')\n",
    "        print(f\"Current Battery plan: {value}\")\n",
    "        \n",
    "        if morning_start<=now<evening_start:\n",
    "            sbc.set_brightness(100, display=0)\n",
    "        else:\n",
    "            sbc.set_brightness(80, display=0)\n",
    "            \n",
    "        hue_factor(1.0,10, 100)\n",
    "        print(\"Shifted to a normal tone.\")"
   ]
  },
  {
   "cell_type": "markdown",
   "id": "850b4576",
   "metadata": {},
   "source": [
    "#### ACCESSING THE MAJORITY CLASS PREDICTED BY THE ML MODEL"
   ]
  },
  {
   "cell_type": "code",
   "execution_count": 21,
   "id": "a699def2",
   "metadata": {},
   "outputs": [],
   "source": [
    "majority_vote=max(set(y_pred), key=list(y_pred).count)"
   ]
  },
  {
   "cell_type": "markdown",
   "id": "23036a2d",
   "metadata": {},
   "source": [
    "DISPLAY LOG OF RESULT FOR CHANGES MADE BY THE PROGRAM"
   ]
  },
  {
   "cell_type": "code",
   "execution_count": 22,
   "id": "e7355de3",
   "metadata": {},
   "outputs": [
    {
     "name": "stdout",
     "output_type": "stream",
     "text": [
      "Majority Vote: BROWSE\n",
      "BROWSE MODE ENABLED\n",
      "Current Battery plan: Balanced\n",
      "Shifted to a normal tone.\n",
      "Asus 0701 : [100] %\n"
     ]
    }
   ],
   "source": [
    "ActivityDecider.activity_tap()\n",
    "getattr(ActivityDecider, majority_vote)()\n",
    "for monitor in sbc.list_monitors():\n",
    "    print(monitor, ':', sbc.get_brightness(display=monitor), '%')"
   ]
  }
 ],
 "metadata": {
  "kernelspec": {
   "display_name": "Python 3 (ipykernel)",
   "language": "python",
   "name": "python3"
  },
  "language_info": {
   "codemirror_mode": {
    "name": "ipython",
    "version": 3
   },
   "file_extension": ".py",
   "mimetype": "text/x-python",
   "name": "python",
   "nbconvert_exporter": "python",
   "pygments_lexer": "ipython3",
   "version": "3.10.9"
  }
 },
 "nbformat": 4,
 "nbformat_minor": 5
}
